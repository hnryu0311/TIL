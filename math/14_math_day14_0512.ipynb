{
 "cells": [
  {
   "cell_type": "code",
   "execution_count": 2,
   "metadata": {},
   "outputs": [],
   "source": [
    "import seaborn as sns"
   ]
  },
  {
   "cell_type": "code",
   "execution_count": 3,
   "metadata": {},
   "outputs": [
    {
     "data": {
      "text/html": [
       "<div>\n",
       "<style scoped>\n",
       "    .dataframe tbody tr th:only-of-type {\n",
       "        vertical-align: middle;\n",
       "    }\n",
       "\n",
       "    .dataframe tbody tr th {\n",
       "        vertical-align: top;\n",
       "    }\n",
       "\n",
       "    .dataframe thead th {\n",
       "        text-align: right;\n",
       "    }\n",
       "</style>\n",
       "<table border=\"1\" class=\"dataframe\">\n",
       "  <thead>\n",
       "    <tr style=\"text-align: right;\">\n",
       "      <th></th>\n",
       "      <th>survived</th>\n",
       "      <th>pclass</th>\n",
       "      <th>sex</th>\n",
       "      <th>age</th>\n",
       "      <th>sibsp</th>\n",
       "      <th>parch</th>\n",
       "      <th>fare</th>\n",
       "      <th>embarked</th>\n",
       "      <th>class</th>\n",
       "      <th>who</th>\n",
       "      <th>adult_male</th>\n",
       "      <th>deck</th>\n",
       "      <th>embark_town</th>\n",
       "      <th>alive</th>\n",
       "      <th>alone</th>\n",
       "    </tr>\n",
       "  </thead>\n",
       "  <tbody>\n",
       "    <tr>\n",
       "      <th>886</th>\n",
       "      <td>0</td>\n",
       "      <td>2</td>\n",
       "      <td>male</td>\n",
       "      <td>27.0</td>\n",
       "      <td>0</td>\n",
       "      <td>0</td>\n",
       "      <td>13.00</td>\n",
       "      <td>S</td>\n",
       "      <td>Second</td>\n",
       "      <td>man</td>\n",
       "      <td>True</td>\n",
       "      <td>NaN</td>\n",
       "      <td>Southampton</td>\n",
       "      <td>no</td>\n",
       "      <td>True</td>\n",
       "    </tr>\n",
       "    <tr>\n",
       "      <th>887</th>\n",
       "      <td>1</td>\n",
       "      <td>1</td>\n",
       "      <td>female</td>\n",
       "      <td>19.0</td>\n",
       "      <td>0</td>\n",
       "      <td>0</td>\n",
       "      <td>30.00</td>\n",
       "      <td>S</td>\n",
       "      <td>First</td>\n",
       "      <td>woman</td>\n",
       "      <td>False</td>\n",
       "      <td>B</td>\n",
       "      <td>Southampton</td>\n",
       "      <td>yes</td>\n",
       "      <td>True</td>\n",
       "    </tr>\n",
       "    <tr>\n",
       "      <th>888</th>\n",
       "      <td>0</td>\n",
       "      <td>3</td>\n",
       "      <td>female</td>\n",
       "      <td>NaN</td>\n",
       "      <td>1</td>\n",
       "      <td>2</td>\n",
       "      <td>23.45</td>\n",
       "      <td>S</td>\n",
       "      <td>Third</td>\n",
       "      <td>woman</td>\n",
       "      <td>False</td>\n",
       "      <td>NaN</td>\n",
       "      <td>Southampton</td>\n",
       "      <td>no</td>\n",
       "      <td>False</td>\n",
       "    </tr>\n",
       "    <tr>\n",
       "      <th>889</th>\n",
       "      <td>1</td>\n",
       "      <td>1</td>\n",
       "      <td>male</td>\n",
       "      <td>26.0</td>\n",
       "      <td>0</td>\n",
       "      <td>0</td>\n",
       "      <td>30.00</td>\n",
       "      <td>C</td>\n",
       "      <td>First</td>\n",
       "      <td>man</td>\n",
       "      <td>True</td>\n",
       "      <td>C</td>\n",
       "      <td>Cherbourg</td>\n",
       "      <td>yes</td>\n",
       "      <td>True</td>\n",
       "    </tr>\n",
       "    <tr>\n",
       "      <th>890</th>\n",
       "      <td>0</td>\n",
       "      <td>3</td>\n",
       "      <td>male</td>\n",
       "      <td>32.0</td>\n",
       "      <td>0</td>\n",
       "      <td>0</td>\n",
       "      <td>7.75</td>\n",
       "      <td>Q</td>\n",
       "      <td>Third</td>\n",
       "      <td>man</td>\n",
       "      <td>True</td>\n",
       "      <td>NaN</td>\n",
       "      <td>Queenstown</td>\n",
       "      <td>no</td>\n",
       "      <td>True</td>\n",
       "    </tr>\n",
       "  </tbody>\n",
       "</table>\n",
       "</div>"
      ],
      "text/plain": [
       "     survived  pclass     sex   age  sibsp  parch   fare embarked   class  \\\n",
       "886         0       2    male  27.0      0      0  13.00        S  Second   \n",
       "887         1       1  female  19.0      0      0  30.00        S   First   \n",
       "888         0       3  female   NaN      1      2  23.45        S   Third   \n",
       "889         1       1    male  26.0      0      0  30.00        C   First   \n",
       "890         0       3    male  32.0      0      0   7.75        Q   Third   \n",
       "\n",
       "       who  adult_male deck  embark_town alive  alone  \n",
       "886    man        True  NaN  Southampton    no   True  \n",
       "887  woman       False    B  Southampton   yes   True  \n",
       "888  woman       False  NaN  Southampton    no  False  \n",
       "889    man        True    C    Cherbourg   yes   True  \n",
       "890    man        True  NaN   Queenstown    no   True  "
      ]
     },
     "execution_count": 3,
     "metadata": {},
     "output_type": "execute_result"
    }
   ],
   "source": [
    "titanic = sns.load_dataset(\"titanic\")\n",
    "titanic.tail()"
   ]
  },
  {
   "cell_type": "code",
   "execution_count": 4,
   "metadata": {},
   "outputs": [],
   "source": [
    "from patsy import dmatrix"
   ]
  },
  {
   "cell_type": "code",
   "execution_count": 5,
   "metadata": {},
   "outputs": [
    {
     "data": {
      "text/plain": [
       "DesignMatrix with shape (714, 3)\n",
       "  survived  pclass  age\n",
       "         0       3   22\n",
       "         1       1   38\n",
       "         1       3   26\n",
       "         1       1   35\n",
       "         0       3   35\n",
       "         0       1   54\n",
       "         0       3    2\n",
       "         1       3   27\n",
       "         1       2   14\n",
       "         1       3    4\n",
       "         1       1   58\n",
       "         0       3   20\n",
       "         0       3   39\n",
       "         0       3   14\n",
       "         1       2   55\n",
       "         0       3    2\n",
       "         0       3   31\n",
       "         0       2   35\n",
       "         1       2   34\n",
       "         1       3   15\n",
       "         1       1   28\n",
       "         0       3    8\n",
       "         1       3   38\n",
       "         0       1   19\n",
       "         0       1   40\n",
       "         0       2   66\n",
       "         0       1   28\n",
       "         0       1   42\n",
       "         0       3   21\n",
       "         0       3   18\n",
       "  [684 rows omitted]\n",
       "  Terms:\n",
       "    'survived' (column 0)\n",
       "    'pclass' (column 1)\n",
       "    'age' (column 2)\n",
       "  (to view full data, use np.asarray(this_obj))"
      ]
     },
     "execution_count": 5,
     "metadata": {},
     "output_type": "execute_result"
    }
   ],
   "source": [
    "dmatrix(\"survived + pclass + age + 0\", data = titanic)"
   ]
  },
  {
   "cell_type": "code",
   "execution_count": 6,
   "metadata": {},
   "outputs": [],
   "source": [
    "from sklearn.datasets import make_regression\n",
    "\n",
    "X, y, w = make_regression(\n",
    "    n_samples=50, n_features=1, bias=100, noise=10, coef=True, random_state=0\n",
    ")"
   ]
  },
  {
   "cell_type": "code",
   "execution_count": 7,
   "metadata": {},
   "outputs": [
    {
     "data": {
      "text/plain": [
       "array([[-0.85409574],\n",
       "       [ 1.49407907],\n",
       "       [-0.34791215],\n",
       "       [ 0.44386323],\n",
       "       [-0.18718385],\n",
       "       [ 1.86755799],\n",
       "       [ 0.4105985 ],\n",
       "       [-1.70627019],\n",
       "       [-1.42001794],\n",
       "       [ 0.8644362 ],\n",
       "       [ 0.97873798],\n",
       "       [-0.20515826],\n",
       "       [ 0.15494743],\n",
       "       [-0.50965218],\n",
       "       [ 1.53277921],\n",
       "       [-0.74216502],\n",
       "       [-1.45436567],\n",
       "       [-0.10321885],\n",
       "       [-2.55298982],\n",
       "       [ 1.76405235],\n",
       "       [-1.25279536],\n",
       "       [-0.97727788],\n",
       "       [ 0.04575852],\n",
       "       [-0.4380743 ],\n",
       "       [ 0.76103773],\n",
       "       [ 0.14404357],\n",
       "       [-0.21274028],\n",
       "       [ 1.20237985],\n",
       "       [-0.38732682],\n",
       "       [ 2.2408932 ],\n",
       "       [ 0.77749036],\n",
       "       [ 0.15634897],\n",
       "       [-1.61389785],\n",
       "       [ 1.9507754 ],\n",
       "       [ 0.40015721],\n",
       "       [ 1.46935877],\n",
       "       [ 1.45427351],\n",
       "       [-0.30230275],\n",
       "       [ 0.3130677 ],\n",
       "       [ 0.33367433],\n",
       "       [ 2.26975462],\n",
       "       [-0.15135721],\n",
       "       [ 0.12167502],\n",
       "       [ 0.37816252],\n",
       "       [ 0.6536186 ],\n",
       "       [ 0.95008842],\n",
       "       [ 1.23029068],\n",
       "       [-0.88778575],\n",
       "       [-1.04855297],\n",
       "       [-1.98079647]])"
      ]
     },
     "execution_count": 7,
     "metadata": {},
     "output_type": "execute_result"
    }
   ],
   "source": [
    "X"
   ]
  },
  {
   "cell_type": "code",
   "execution_count": 8,
   "metadata": {},
   "outputs": [
    {
     "data": {
      "text/plain": [
       "array([ 69.16576208, 129.94932345,  80.01389923, 100.30585701,\n",
       "       107.20314663, 140.88561123, 112.99506826,  82.25108224,\n",
       "        71.56780523, 111.67769684, 112.48530888, 114.65029223,\n",
       "       111.71570029, 101.63406761, 127.78240131,  93.08609825,\n",
       "        80.69164687, 113.11903254,  61.0218126 , 131.15670173,\n",
       "        91.08078405,  79.88503003,  90.81838842,  95.10877879,\n",
       "       108.56190647,  98.64651153,  96.63568503, 125.15577947,\n",
       "        98.56417169, 131.95814648, 121.75870162, 106.25707916,\n",
       "        80.40782312, 128.46531432,  98.60107781, 110.84947303,\n",
       "       116.3307515 , 103.39347869, 106.6868286 , 103.97656433,\n",
       "       127.6988851 ,  97.31416893,  94.52678796,  96.96377225,\n",
       "       101.80069439, 119.35745   , 118.85230744, 104.32382223,\n",
       "        92.40639334,  83.7664334 ])"
      ]
     },
     "execution_count": 8,
     "metadata": {},
     "output_type": "execute_result"
    }
   ],
   "source": [
    "y"
   ]
  },
  {
   "cell_type": "code",
   "execution_count": 9,
   "metadata": {},
   "outputs": [
    {
     "data": {
      "text/plain": [
       "array(15.89695836)"
      ]
     },
     "execution_count": 9,
     "metadata": {},
     "output_type": "execute_result"
    }
   ],
   "source": [
    "w"
   ]
  },
  {
   "cell_type": "markdown",
   "metadata": {},
   "source": [
    "#### 연습문제  4.1.2\n",
    "- make_regression과 같은 기능을 하는 함수 make_regression2를 만들어라. 단 make_regression2는 coef=True, n_features=1 라고 가정한다. 즉 항상 가중치 계수를 반환하고 1차원 독립변수만 생성할 수 있다. 따라서 make_regression2는 다음과 같은 인수만 가진다.\n",
    "\n",
    "````\n",
    "n_samples\n",
    "bias\n",
    "noise\n",
    "random_state\n",
    "따라서 함수 사용법은 다음과 같아야 한다.\n",
    "\n",
    "```\n",
    "\n",
    "X, y, w = make_regression2(n_samples, bias, noise, random_state)"
   ]
  },
  {
   "cell_type": "code",
   "execution_count": 15,
   "metadata": {},
   "outputs": [],
   "source": [
    "import matplotlib.pyplot as plt"
   ]
  },
  {
   "cell_type": "code",
   "execution_count": 12,
   "metadata": {},
   "outputs": [],
   "source": [
    "def make_regression2(n_samples, bias, noise, random_state=0):\n",
    "    np.random.seed(random_state)\n",
    "    X = np.random.normal(size=n_samples)\n",
    "    w = 100 * np.random.normal(size=1)[0]\n",
    "    y0 = X * w + bias\n",
    "    e = np.random.normal(scale=noise, size=n_samples)\n",
    "    y = y0 + e\n",
    "    return X, y, w\n",
    "    "
   ]
  },
  {
   "cell_type": "code",
   "execution_count": 13,
   "metadata": {},
   "outputs": [],
   "source": [
    "X, y, w = make_regression2(50, 100, 10)"
   ]
  },
  {
   "cell_type": "code",
   "execution_count": 16,
   "metadata": {},
   "outputs": [
    {
     "data": {
      "image/png": "[encoded data removed]",
      "text/plain": [
       "<Figure size 432x288 with 1 Axes>"
      ]
     },
     "metadata": {
      "image/png": {
       "height": 248,
       "width": 383
      },
      "needs_background": "light"
     },
     "output_type": "display_data"
    }
   ],
   "source": [
    "plt.scatter(X,y,s=100)\n",
    "plt.show()"
   ]
  },
  {
   "cell_type": "markdown",
   "metadata": {},
   "source": [
    "#### 4.2 선형회귀분석의 기초"
   ]
  },
  {
   "cell_type": "code",
   "execution_count": 18,
   "metadata": {},
   "outputs": [],
   "source": [
    "import statsmodels.api as sm"
   ]
  },
  {
   "cell_type": "code",
   "execution_count": 19,
   "metadata": {},
   "outputs": [],
   "source": [
    "from sklearn.datasets import make_regression\n",
    "\n",
    "bias = 100\n",
    "X0, y, w = make_regression(\n",
    "    n_samples=200, n_features=1, bias=bias, noise=10, coef=True, random_state=1\n",
    ")\n",
    "X = sm.add_constant(X0)\n",
    "y = y.reshape(len(y), 1)"
   ]
  },
  {
   "cell_type": "code",
   "execution_count": 20,
   "metadata": {},
   "outputs": [
    {
     "data": {
      "text/html": [
       "<div>\n",
       "<style scoped>\n",
       "    .dataframe tbody tr th:only-of-type {\n",
       "        vertical-align: middle;\n",
       "    }\n",
       "\n",
       "    .dataframe tbody tr th {\n",
       "        vertical-align: top;\n",
       "    }\n",
       "\n",
       "    .dataframe thead th {\n",
       "        text-align: right;\n",
       "    }\n",
       "</style>\n",
       "<table border=\"1\" class=\"dataframe\">\n",
       "  <thead>\n",
       "    <tr style=\"text-align: right;\">\n",
       "      <th></th>\n",
       "      <th>x</th>\n",
       "      <th>y</th>\n",
       "    </tr>\n",
       "  </thead>\n",
       "  <tbody>\n",
       "    <tr>\n",
       "      <th>0</th>\n",
       "      <td>0.232495</td>\n",
       "      <td>127.879017</td>\n",
       "    </tr>\n",
       "    <tr>\n",
       "      <th>1</th>\n",
       "      <td>-0.038696</td>\n",
       "      <td>93.032914</td>\n",
       "    </tr>\n",
       "    <tr>\n",
       "      <th>2</th>\n",
       "      <td>0.550537</td>\n",
       "      <td>161.857508</td>\n",
       "    </tr>\n",
       "    <tr>\n",
       "      <th>3</th>\n",
       "      <td>0.503185</td>\n",
       "      <td>141.692050</td>\n",
       "    </tr>\n",
       "    <tr>\n",
       "      <th>4</th>\n",
       "      <td>2.186980</td>\n",
       "      <td>283.260119</td>\n",
       "    </tr>\n",
       "    <tr>\n",
       "      <th>...</th>\n",
       "      <td>...</td>\n",
       "      <td>...</td>\n",
       "    </tr>\n",
       "    <tr>\n",
       "      <th>195</th>\n",
       "      <td>-0.172428</td>\n",
       "      <td>87.874277</td>\n",
       "    </tr>\n",
       "    <tr>\n",
       "      <th>196</th>\n",
       "      <td>-1.199268</td>\n",
       "      <td>-13.626664</td>\n",
       "    </tr>\n",
       "    <tr>\n",
       "      <th>197</th>\n",
       "      <td>1.462108</td>\n",
       "      <td>216.106619</td>\n",
       "    </tr>\n",
       "    <tr>\n",
       "      <th>198</th>\n",
       "      <td>1.131629</td>\n",
       "      <td>212.743149</td>\n",
       "    </tr>\n",
       "    <tr>\n",
       "      <th>199</th>\n",
       "      <td>0.495211</td>\n",
       "      <td>150.017589</td>\n",
       "    </tr>\n",
       "  </tbody>\n",
       "</table>\n",
       "<p>200 rows × 2 columns</p>\n",
       "</div>"
      ],
      "text/plain": [
       "            x           y\n",
       "0    0.232495  127.879017\n",
       "1   -0.038696   93.032914\n",
       "2    0.550537  161.857508\n",
       "3    0.503185  141.692050\n",
       "4    2.186980  283.260119\n",
       "..        ...         ...\n",
       "195 -0.172428   87.874277\n",
       "196 -1.199268  -13.626664\n",
       "197  1.462108  216.106619\n",
       "198  1.131629  212.743149\n",
       "199  0.495211  150.017589\n",
       "\n",
       "[200 rows x 2 columns]"
      ]
     },
     "execution_count": 20,
     "metadata": {},
     "output_type": "execute_result"
    }
   ],
   "source": [
    "df = pd.DataFrame({\"x\": X0[:, 0], \"y\": y[:, 0]})\n",
    "df"
   ]
  },
  {
   "cell_type": "markdown",
   "metadata": {},
   "source": [
    "#### statsmodels 패키지를 사용한 선형 회귀분석"
   ]
  },
  {
   "cell_type": "code",
   "execution_count": 21,
   "metadata": {},
   "outputs": [],
   "source": [
    "model = sm.OLS.from_formula(\"y ~ x\", data=df)\n",
    "result = model.fit()\n"
   ]
  },
  {
   "cell_type": "code",
   "execution_count": null,
   "metadata": {},
   "outputs": [],
   "source": [
    "# 이렇게 해도 됨.\n",
    "# dfy = df[[\"y\"]]  #y를 따로 만들어줌\n",
    "# dfX = sm.add_constant(df[[\"x\"]])  #x를 따로 만들어주는데 상수항은 수동으로 추가(sm.add_constant)\n",
    "# model = sm.OLS(dfy, dfX)\n",
    "# result = model.fit()"
   ]
  },
  {
   "cell_type": "code",
   "execution_count": 22,
   "metadata": {},
   "outputs": [
    {
     "name": "stdout",
     "output_type": "stream",
     "text": [
      "                            OLS Regression Results                            \n",
      "==============================================================================\n",
      "Dep. Variable:                      y   R-squared:                       0.985\n",
      "Model:                            OLS   Adj. R-squared:                  0.985\n",
      "Method:                 Least Squares   F-statistic:                 1.278e+04\n",
      "Date:                Tue, 12 May 2020   Prob (F-statistic):          8.17e-182\n",
      "Time:                        23:17:54   Log-Likelihood:                -741.28\n",
      "No. Observations:                 200   AIC:                             1487.\n",
      "Df Residuals:                     198   BIC:                             1493.\n",
      "Df Model:                           1                                         \n",
      "Covariance Type:            nonrobust                                         \n",
      "==============================================================================\n",
      "                 coef    std err          t      P>|t|      [0.025      0.975]\n",
      "------------------------------------------------------------------------------\n",
      "Intercept     99.7915      0.705    141.592      0.000      98.402     101.181\n",
      "x             86.9617      0.769    113.058      0.000      85.445      88.479\n",
      "==============================================================================\n",
      "Omnibus:                        1.418   Durbin-Watson:                   1.690\n",
      "Prob(Omnibus):                  0.492   Jarque-Bera (JB):                1.059\n",
      "Skew:                           0.121   Prob(JB):                        0.589\n",
      "Kurtosis:                       3.262   Cond. No.                         1.16\n",
      "==============================================================================\n",
      "\n",
      "Warnings:\n",
      "[1] Standard Errors assume that the covariance matrix of the errors is correctly specified.\n"
     ]
    }
   ],
   "source": [
    "print(result.summary())"
   ]
  },
  {
   "cell_type": "code",
   "execution_count": null,
   "metadata": {},
   "outputs": [],
   "source": [
    "# const y 절편을 의미 여기선 intercept"
   ]
  },
  {
   "cell_type": "code",
   "execution_count": 23,
   "metadata": {},
   "outputs": [
    {
     "data": {
      "text/plain": [
       "0    -74.131915\n",
       "1     12.829797\n",
       "2     99.791509\n",
       "3    186.753221\n",
       "4    273.714933\n",
       "dtype: float64"
      ]
     },
     "execution_count": 23,
     "metadata": {},
     "output_type": "execute_result"
    }
   ],
   "source": [
    "result.predict({\"x\": [-2, -1, 0, 1, 2] })"
   ]
  },
  {
   "cell_type": "code",
   "execution_count": 24,
   "metadata": {},
   "outputs": [
    {
     "data": {
      "text/plain": [
       "3.7196912217041245e-12"
      ]
     },
     "execution_count": 24,
     "metadata": {},
     "output_type": "execute_result"
    }
   ],
   "source": [
    "result.resid.sum()  #잔차를 모두 더하면 0"
   ]
  },
  {
   "cell_type": "code",
   "execution_count": 25,
   "metadata": {},
   "outputs": [
    {
     "data": {
      "text/plain": [
       "0    109.069351\n",
       "dtype: float64"
      ]
     },
     "execution_count": 25,
     "metadata": {},
     "output_type": "execute_result"
    }
   ],
   "source": [
    "result.predict({\"x\": X0.mean()})  #x로 x의 평균값을 넣으면 결과로 y의 평균이 된다. 아래보면 y의 평균과 같다"
   ]
  },
  {
   "cell_type": "code",
   "execution_count": 26,
   "metadata": {},
   "outputs": [
    {
     "data": {
      "text/plain": [
       "109.06935068170773"
      ]
     },
     "execution_count": 26,
     "metadata": {},
     "output_type": "execute_result"
    }
   ],
   "source": [
    "y.mean()"
   ]
  }
 ],
 "metadata": {
  "kernelspec": {
   "display_name": "Python 3",
   "language": "python",
   "name": "python3"
  },
  "language_info": {
   "codemirror_mode": {
    "name": "ipython",
    "version": 3
   },
   "file_extension": ".py",
   "mimetype": "text/x-python",
   "name": "python",
   "nbconvert_exporter": "python",
   "pygments_lexer": "ipython3",
   "version": "3.7.6"
  }
 },
 "nbformat": 4,
 "nbformat_minor": 4
}
